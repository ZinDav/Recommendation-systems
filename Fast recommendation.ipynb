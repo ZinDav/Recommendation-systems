{
 "cells": [
  {
   "cell_type": "code",
   "execution_count": 1,
   "id": "2a47be72",
   "metadata": {
    "ExecuteTime": {
     "end_time": "2023-03-03T19:08:31.141367Z",
     "start_time": "2023-03-03T19:08:25.723672Z"
    }
   },
   "outputs": [],
   "source": [
    "import pandas as pd\n",
    "import numpy as np\n",
    "import matplotlib.pyplot as plt\n",
    "%matplotlib inline\n",
    "\n",
    "# Написанные нами функции\n",
    "from src.metrics import precision_at_k, recall_at_k, ndcg_at_k, ap_k\n",
    "from src.utils import prefilter_items\n",
    "from src.recommenders import MainRecommender\n",
    "\n",
    "# Функция генерации фичей\n",
    "from src.features import generate_fs\n",
    "\n",
    "# Функция быстрого старта\n",
    "from src.recommendation import tlvl_recommender"
   ]
  },
  {
   "cell_type": "code",
   "execution_count": 9,
   "id": "d29dbc34",
   "metadata": {
    "ExecuteTime": {
     "end_time": "2023-03-03T19:16:15.655757Z",
     "start_time": "2023-03-03T19:16:10.702285Z"
    }
   },
   "outputs": [],
   "source": [
    "data = pd.read_csv('../raw_data/retail_train.csv')\n",
    "item_features = pd.read_csv('../raw_data/product.csv')\n",
    "user_features = pd.read_csv('../raw_data/hh_demographic.csv')\n",
    "\n",
    "item_features.columns = [col.lower() for col in item_features.columns]\n",
    "user_features.columns = [col.lower() for col in user_features.columns]\n",
    "\n",
    "item_features.rename(columns={'product_id': 'item_id'}, inplace=True)\n",
    "user_features.rename(columns={'household_key': 'user_id'}, inplace=True)\n",
    "\n",
    "val_lvl_1_size_weeks = 6\n",
    "val_lvl_2_size_weeks = 3\n",
    "\n",
    "data_train_lvl_1 = data[data['week_no'] < data['week_no'].max() - (val_lvl_1_size_weeks + val_lvl_2_size_weeks)]\n",
    "data_train_lvl_2 = data[(data['week_no'] >= data['week_no'].max() - (val_lvl_1_size_weeks + val_lvl_2_size_weeks)) &\n",
    "                      (data['week_no'] < data['week_no'].max() - (val_lvl_2_size_weeks))]\n",
    "\n",
    "data_val_lvl_2 = data[data['week_no'] >= data['week_no'].max() - val_lvl_2_size_weeks]"
   ]
  },
  {
   "cell_type": "code",
   "execution_count": 5,
   "id": "a162d507",
   "metadata": {
    "ExecuteTime": {
     "end_time": "2023-03-03T19:11:57.066896Z",
     "start_time": "2023-03-03T19:09:23.735272Z"
    }
   },
   "outputs": [
    {
     "name": "stderr",
     "output_type": "stream",
     "text": [
      "C:\\Users\\Diana\\Documents\\Recsys\\Final Project\\src\\utils.py:23: SettingWithCopyWarning: \n",
      "A value is trying to be set on a copy of a slice from a DataFrame.\n",
      "Try using .loc[row_indexer,col_indexer] = value instead\n",
      "\n",
      "See the caveats in the documentation: https://pandas.pydata.org/pandas-docs/stable/user_guide/indexing.html#returning-a-view-versus-a-copy\n",
      "  data['cost'] = data['sales_value'] / data['quantity']\n",
      "C:\\Users\\Diana\\anaconda3\\lib\\site-packages\\implicit\\utils.py:33: UserWarning: Intel MKL BLAS detected. Its highly recommend to set the environment variable 'export MKL_NUM_THREADS=1' to disable its internal multithreading\n",
      "  warnings.warn(\n"
     ]
    },
    {
     "data": {
      "application/vnd.jupyter.widget-view+json": {
       "model_id": "5f95bf77ff7d46f1b45f3245905f2e7c",
       "version_major": 2,
       "version_minor": 0
      },
      "text/plain": [
       "  0%|          | 0/66 [00:00<?, ?it/s]"
      ]
     },
     "metadata": {},
     "output_type": "display_data"
    },
    {
     "data": {
      "application/vnd.jupyter.widget-view+json": {
       "model_id": "98519ca466c94472a6616e168b9c1429",
       "version_major": 2,
       "version_minor": 0
      },
      "text/plain": [
       "  0%|          | 0/5001 [00:00<?, ?it/s]"
      ]
     },
     "metadata": {},
     "output_type": "display_data"
    },
    {
     "name": "stderr",
     "output_type": "stream",
     "text": [
      "C:\\Users\\Diana\\Documents\\Recsys\\Final Project\\src\\features.py:6: SettingWithCopyWarning: \n",
      "A value is trying to be set on a copy of a slice from a DataFrame\n",
      "\n",
      "See the caveats in the documentation: https://pandas.pydata.org/pandas-docs/stable/user_guide/indexing.html#returning-a-view-versus-a-copy\n",
      "  data.sort_values(['week_no', 'day', 'trans_time'], inplace=True)\n",
      "C:\\Users\\Diana\\Documents\\Recsys\\Final Project\\src\\features.py:10: SettingWithCopyWarning: \n",
      "A value is trying to be set on a copy of a slice from a DataFrame.\n",
      "Try using .loc[row_indexer,col_indexer] = value instead\n",
      "\n",
      "See the caveats in the documentation: https://pandas.pydata.org/pandas-docs/stable/user_guide/indexing.html#returning-a-view-versus-a-copy\n",
      "  data['value'] = (data['sales_value'] - data['retail_disc']) / data['quantity']\n",
      "C:\\Users\\Diana\\anaconda3\\lib\\site-packages\\sklearn\\preprocessing\\_label.py:98: DataConversionWarning: A column-vector y was passed when a 1d array was expected. Please change the shape of y to (n_samples, ), for example using ravel().\n",
      "  y = column_or_1d(y, warn=True)\n",
      "C:\\Users\\Diana\\anaconda3\\lib\\site-packages\\sklearn\\preprocessing\\_label.py:133: DataConversionWarning: A column-vector y was passed when a 1d array was expected. Please change the shape of y to (n_samples, ), for example using ravel().\n",
      "  y = column_or_1d(y, warn=True)\n",
      "C:\\Users\\Diana\\anaconda3\\lib\\site-packages\\lightgbm\\basic.py:1513: UserWarning: categorical_column in param dict is overridden.\n",
      "  _log_warning(f'{cat_alias} in param dict is overridden.')\n"
     ]
    }
   ],
   "source": [
    "recommender, pred = tlvl_recommender(data, week_sep=3, item_features=item_features, \n",
    "                                     user_features=user_features, N=100)"
   ]
  },
  {
   "cell_type": "code",
   "execution_count": 20,
   "id": "43339e8b",
   "metadata": {
    "ExecuteTime": {
     "end_time": "2023-03-03T19:19:31.299784Z",
     "start_time": "2023-03-03T19:19:31.283782Z"
    }
   },
   "outputs": [],
   "source": [
    "def get_recommendation(user, N=5):\n",
    "    if user in data_train_lvl_1['user_id'].unique() and \\\n",
    "            user in data_train_lvl_2['user_id'].unique() and \\\n",
    "            user in data_val_lvl_2['user_id'].unique():\n",
    "        return pred.loc[pred['user_id'] == user, 'pred'].values[0]\n",
    "    elif (user in data_train_lvl_1['user_id'].unique() and \\\n",
    "            user in data_train_lvl_2['user_id'].unique()) or \\\n",
    "        (user in data_train_lvl_1['user_id'].unique() and \\\n",
    "            user in data_val_lvl_2['user_id'].unique()):\n",
    "        return recommender.get_own_recommendations(user, N=N)\n",
    "    else:\n",
    "        return recommender.extend_with_top_popular([], N=N)"
   ]
  },
  {
   "cell_type": "code",
   "execution_count": 22,
   "id": "79f2775b",
   "metadata": {
    "ExecuteTime": {
     "end_time": "2023-03-03T19:19:40.518495Z",
     "start_time": "2023-03-03T19:19:40.438136Z"
    }
   },
   "outputs": [
    {
     "data": {
      "text/plain": [
       "array([  856942,  5577022,  1062002,   865456,   914190,  8090541,\n",
       "         883616,   958046,  1004906,   990656,   971585,   979707,\n",
       "         940947,  1005186,  1115576,  1041796,   978974,   933913,\n",
       "        1050310,   986947,  1094955,  9655212, 10150194,  1022053,\n",
       "        1020682,   940631,  1075074,   911454,  1105433,  1025641,\n",
       "        1124029,  1082269,   965766,  1056509,   847982,  1035805,\n",
       "        1082212,  6034857,  1006184,  5569374,   872137,   986912,\n",
       "         844818,   865178,  1021164,   934369, 10149640,  1033142,\n",
       "        9527290,  1137775,   904360,  1013167,  5568729,  1100972,\n",
       "        1053282,   997796,   992986,   977658,  1022254,  1005274,\n",
       "         931136,   979792,   945805,  8293343,  1011736,  1135096,\n",
       "         888178,   830775,  1089023,  1055201, 12384953,  1096120,\n",
       "       12385916,   924423, 12385374,   869857,   845078,   878285,\n",
       "         859191,   848761, 15926844,   991024,   953561,   876042,\n",
       "        1043064,  5582712,   857006,   834631,  8090513,   835618,\n",
       "         983897,  1043301,   867188,   854496,  1077430,   928342,\n",
       "        7025114,   871570,  1103741,  1105488], dtype=int64)"
      ]
     },
     "execution_count": 22,
     "metadata": {},
     "output_type": "execute_result"
    }
   ],
   "source": [
    "get_recommendation(1)"
   ]
  }
 ],
 "metadata": {
  "finalized": {
   "timestamp": 1677860864256,
   "trusted": false
  },
  "kernelspec": {
   "display_name": "Python 3 (ipykernel)",
   "language": "python",
   "name": "python3"
  },
  "language_info": {
   "codemirror_mode": {
    "name": "ipython",
    "version": 3
   },
   "file_extension": ".py",
   "mimetype": "text/x-python",
   "name": "python",
   "nbconvert_exporter": "python",
   "pygments_lexer": "ipython3",
   "version": "3.9.13"
  },
  "toc": {
   "base_numbering": 1,
   "nav_menu": {},
   "number_sections": true,
   "sideBar": true,
   "skip_h1_title": false,
   "title_cell": "Table of Contents",
   "title_sidebar": "Contents",
   "toc_cell": false,
   "toc_position": {},
   "toc_section_display": true,
   "toc_window_display": false
  },
  "varInspector": {
   "cols": {
    "lenName": 16,
    "lenType": 16,
    "lenVar": 40
   },
   "kernels_config": {
    "python": {
     "delete_cmd_postfix": "",
     "delete_cmd_prefix": "del ",
     "library": "var_list.py",
     "varRefreshCmd": "print(var_dic_list())"
    },
    "r": {
     "delete_cmd_postfix": ") ",
     "delete_cmd_prefix": "rm(",
     "library": "var_list.r",
     "varRefreshCmd": "cat(var_dic_list()) "
    }
   },
   "types_to_exclude": [
    "module",
    "function",
    "builtin_function_or_method",
    "instance",
    "_Feature"
   ],
   "window_display": false
  }
 },
 "nbformat": 4,
 "nbformat_minor": 5
}
