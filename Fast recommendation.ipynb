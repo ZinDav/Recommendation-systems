{
 "cells": [
  {
   "cell_type": "code",
   "execution_count": 1,
   "id": "2a47be72",
   "metadata": {
    "ExecuteTime": {
     "end_time": "2023-03-03T18:51:59.044022Z",
     "start_time": "2023-03-03T18:51:52.692439Z"
    }
   },
   "outputs": [],
   "source": [
    "import pandas as pd\n",
    "import numpy as np\n",
    "import matplotlib.pyplot as plt\n",
    "%matplotlib inline\n",
    "\n",
    "# Написанные нами функции\n",
    "from src.metrics import precision_at_k, recall_at_k, ndcg_at_k, ap_k\n",
    "from src.utils import prefilter_items\n",
    "from src.recommenders import MainRecommender\n",
    "\n",
    "# Функция генерации фичей\n",
    "from src.features import generate_fs\n",
    "\n",
    "# Функция быстрого старта\n",
    "from src.recommendation import tlvl_recommender"
   ]
  },
  {
   "cell_type": "code",
   "execution_count": 2,
   "id": "d29dbc34",
   "metadata": {
    "ExecuteTime": {
     "end_time": "2023-03-03T18:52:04.877196Z",
     "start_time": "2023-03-03T18:52:00.608528Z"
    }
   },
   "outputs": [],
   "source": [
    "data = pd.read_csv('../raw_data/retail_train.csv')\n",
    "item_features = pd.read_csv('../raw_data/product.csv')\n",
    "user_features = pd.read_csv('../raw_data/hh_demographic.csv')\n",
    "\n",
    "item_features.columns = [col.lower() for col in item_features.columns]\n",
    "user_features.columns = [col.lower() for col in user_features.columns]\n",
    "\n",
    "item_features.rename(columns={'product_id': 'item_id'}, inplace=True)\n",
    "user_features.rename(columns={'household_key': 'user_id'}, inplace=True)"
   ]
  },
  {
   "cell_type": "code",
   "execution_count": 3,
   "id": "a162d507",
   "metadata": {
    "ExecuteTime": {
     "end_time": "2023-03-03T18:52:07.336130Z",
     "start_time": "2023-03-03T18:52:05.888677Z"
    }
   },
   "outputs": [
    {
     "ename": "NameError",
     "evalue": "name 'item_features' is not defined",
     "output_type": "error",
     "traceback": [
      "\u001b[1;31m---------------------------------------------------------------------------\u001b[0m",
      "\u001b[1;31mNameError\u001b[0m                                 Traceback (most recent call last)",
      "\u001b[1;32m~\\AppData\\Local\\Temp\\ipykernel_6000\\4663281.py\u001b[0m in \u001b[0;36m<module>\u001b[1;34m\u001b[0m\n\u001b[1;32m----> 1\u001b[1;33m \u001b[0mrecommender\u001b[0m\u001b[1;33m,\u001b[0m \u001b[0mpred\u001b[0m \u001b[1;33m=\u001b[0m \u001b[0mtlvl_recommender\u001b[0m\u001b[1;33m(\u001b[0m\u001b[0mdata\u001b[0m\u001b[1;33m,\u001b[0m \u001b[0mweek_sep\u001b[0m\u001b[1;33m=\u001b[0m\u001b[1;36m3\u001b[0m\u001b[1;33m)\u001b[0m\u001b[1;33m\u001b[0m\u001b[1;33m\u001b[0m\u001b[0m\n\u001b[0m",
      "\u001b[1;32m~\\Documents\\Recsys\\Final Project\\src\\recommendation.py\u001b[0m in \u001b[0;36mtlvl_recommender\u001b[1;34m(data, week_sep)\u001b[0m\n\u001b[0;32m     21\u001b[0m \u001b[1;33m\u001b[0m\u001b[0m\n\u001b[0;32m     22\u001b[0m     \u001b[1;31m# Фильтрация items\u001b[0m\u001b[1;33m\u001b[0m\u001b[1;33m\u001b[0m\u001b[0m\n\u001b[1;32m---> 23\u001b[1;33m     \u001b[0mdata_train_lvl_1\u001b[0m \u001b[1;33m=\u001b[0m \u001b[0mprefilter_items\u001b[0m\u001b[1;33m(\u001b[0m\u001b[0mdata_train_lvl_1\u001b[0m\u001b[1;33m,\u001b[0m \u001b[0mitems\u001b[0m\u001b[1;33m=\u001b[0m\u001b[0mitem_features\u001b[0m\u001b[1;33m,\u001b[0m \u001b[0mtake_n_popular\u001b[0m\u001b[1;33m=\u001b[0m\u001b[1;36m5000\u001b[0m\u001b[1;33m)\u001b[0m\u001b[1;33m\u001b[0m\u001b[1;33m\u001b[0m\u001b[0m\n\u001b[0m\u001b[0;32m     24\u001b[0m \u001b[1;33m\u001b[0m\u001b[0m\n\u001b[0;32m     25\u001b[0m     \u001b[1;31m# Инициализация и обучение MainRecommender\u001b[0m\u001b[1;33m\u001b[0m\u001b[1;33m\u001b[0m\u001b[0m\n",
      "\u001b[1;31mNameError\u001b[0m: name 'item_features' is not defined"
     ]
    }
   ],
   "source": [
    "recommender, pred = tlvl_recommender(data, week_sep=3)"
   ]
  },
  {
   "cell_type": "code",
   "execution_count": null,
   "id": "43339e8b",
   "metadata": {},
   "outputs": [],
   "source": [
    "def get_recommendation(user, N=5):\n",
    "    if user in data_train_lvl_1['user_id'].unique() and \\\n",
    "            user in data_train_lvl_2['user_id'].unique() and \\\n",
    "            user in data_val_lvl_2['user_id'].unique():\n",
    "        return pred[pred['user_id'] == user, 'pred']\n",
    "    elif (user in data_train_lvl_1['user_id'].unique() and \\\n",
    "            user in data_train_lvl_2['user_id'].unique()) or \\\n",
    "        (user in data_train_lvl_1['user_id'].unique() and \\\n",
    "            user in data_val_lvl_2['user_id'].unique()):\n",
    "        return recommender.get_own_recommendations(user, N=N)\n",
    "    else:\n",
    "        return recommender.extend_with_top_popular([], N=N)"
   ]
  },
  {
   "cell_type": "code",
   "execution_count": null,
   "id": "79f2775b",
   "metadata": {},
   "outputs": [],
   "source": [
    "get_recommendation(2375)"
   ]
  }
 ],
 "metadata": {
  "finalized": {
   "timestamp": 1677860864256,
   "trusted": false
  },
  "kernelspec": {
   "display_name": "Python 3 (ipykernel)",
   "language": "python",
   "name": "python3"
  },
  "language_info": {
   "codemirror_mode": {
    "name": "ipython",
    "version": 3
   },
   "file_extension": ".py",
   "mimetype": "text/x-python",
   "name": "python",
   "nbconvert_exporter": "python",
   "pygments_lexer": "ipython3",
   "version": "3.9.13"
  },
  "toc": {
   "base_numbering": 1,
   "nav_menu": {},
   "number_sections": true,
   "sideBar": true,
   "skip_h1_title": false,
   "title_cell": "Table of Contents",
   "title_sidebar": "Contents",
   "toc_cell": false,
   "toc_position": {},
   "toc_section_display": true,
   "toc_window_display": false
  },
  "varInspector": {
   "cols": {
    "lenName": 16,
    "lenType": 16,
    "lenVar": 40
   },
   "kernels_config": {
    "python": {
     "delete_cmd_postfix": "",
     "delete_cmd_prefix": "del ",
     "library": "var_list.py",
     "varRefreshCmd": "print(var_dic_list())"
    },
    "r": {
     "delete_cmd_postfix": ") ",
     "delete_cmd_prefix": "rm(",
     "library": "var_list.r",
     "varRefreshCmd": "cat(var_dic_list()) "
    }
   },
   "types_to_exclude": [
    "module",
    "function",
    "builtin_function_or_method",
    "instance",
    "_Feature"
   ],
   "window_display": false
  }
 },
 "nbformat": 4,
 "nbformat_minor": 5
}
