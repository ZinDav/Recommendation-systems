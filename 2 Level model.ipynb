{
 "cells": [
  {
   "cell_type": "markdown",
   "id": "42e7924c",
   "metadata": {},
   "source": [
    "# Two-level recommendation system"
   ]
  },
  {
   "cell_type": "markdown",
   "id": "7ae5473a",
   "metadata": {},
   "source": [
    "## Import"
   ]
  },
  {
   "cell_type": "code",
   "execution_count": 2,
   "id": "7b813592",
   "metadata": {
    "ExecuteTime": {
     "end_time": "2023-03-03T18:42:09.886988Z",
     "start_time": "2023-03-03T18:42:09.870447Z"
    }
   },
   "outputs": [],
   "source": [
    "import pandas as pd\n",
    "import numpy as np\n",
    "import matplotlib.pyplot as plt\n",
    "%matplotlib inline\n",
    "\n",
    "from sklearn.cluster import KMeans\n",
    "from sklearn.decomposition import PCA\n",
    "from lightgbm import LGBMClassifier\n",
    "\n",
    "from src.metrics import precision_at_k, recall_at_k\n",
    "from src.utils import prefilter_items\n",
    "from src.recommenders import MainRecommender\n",
    "# Функция генерации фичей\n",
    "from src.features import generate_fs\n",
    "from src.recommendation import tlvl_recommender"
   ]
  },
  {
   "cell_type": "code",
   "execution_count": 3,
   "id": "08c40545",
   "metadata": {
    "ExecuteTime": {
     "end_time": "2023-03-03T18:42:16.700550Z",
     "start_time": "2023-03-03T18:42:11.569931Z"
    }
   },
   "outputs": [
    {
     "data": {
      "text/html": [
       "<div>\n",
       "<style scoped>\n",
       "    .dataframe tbody tr th:only-of-type {\n",
       "        vertical-align: middle;\n",
       "    }\n",
       "\n",
       "    .dataframe tbody tr th {\n",
       "        vertical-align: top;\n",
       "    }\n",
       "\n",
       "    .dataframe thead th {\n",
       "        text-align: right;\n",
       "    }\n",
       "</style>\n",
       "<table border=\"1\" class=\"dataframe\">\n",
       "  <thead>\n",
       "    <tr style=\"text-align: right;\">\n",
       "      <th></th>\n",
       "      <th>user_id</th>\n",
       "      <th>basket_id</th>\n",
       "      <th>day</th>\n",
       "      <th>item_id</th>\n",
       "      <th>quantity</th>\n",
       "      <th>sales_value</th>\n",
       "      <th>store_id</th>\n",
       "      <th>retail_disc</th>\n",
       "      <th>trans_time</th>\n",
       "      <th>week_no</th>\n",
       "      <th>coupon_disc</th>\n",
       "      <th>coupon_match_disc</th>\n",
       "    </tr>\n",
       "  </thead>\n",
       "  <tbody>\n",
       "    <tr>\n",
       "      <th>0</th>\n",
       "      <td>2375</td>\n",
       "      <td>26984851472</td>\n",
       "      <td>1</td>\n",
       "      <td>1004906</td>\n",
       "      <td>1</td>\n",
       "      <td>1.39</td>\n",
       "      <td>364</td>\n",
       "      <td>-0.6</td>\n",
       "      <td>1631</td>\n",
       "      <td>1</td>\n",
       "      <td>0.0</td>\n",
       "      <td>0.0</td>\n",
       "    </tr>\n",
       "    <tr>\n",
       "      <th>1</th>\n",
       "      <td>2375</td>\n",
       "      <td>26984851472</td>\n",
       "      <td>1</td>\n",
       "      <td>1033142</td>\n",
       "      <td>1</td>\n",
       "      <td>0.82</td>\n",
       "      <td>364</td>\n",
       "      <td>0.0</td>\n",
       "      <td>1631</td>\n",
       "      <td>1</td>\n",
       "      <td>0.0</td>\n",
       "      <td>0.0</td>\n",
       "    </tr>\n",
       "  </tbody>\n",
       "</table>\n",
       "</div>"
      ],
      "text/plain": [
       "   user_id    basket_id  day  item_id  quantity  sales_value  store_id  \\\n",
       "0     2375  26984851472    1  1004906         1         1.39       364   \n",
       "1     2375  26984851472    1  1033142         1         0.82       364   \n",
       "\n",
       "   retail_disc  trans_time  week_no  coupon_disc  coupon_match_disc  \n",
       "0         -0.6        1631        1          0.0                0.0  \n",
       "1          0.0        1631        1          0.0                0.0  "
      ]
     },
     "execution_count": 3,
     "metadata": {},
     "output_type": "execute_result"
    }
   ],
   "source": [
    "data = pd.read_csv('../raw_data/retail_train.csv')\n",
    "item_features = pd.read_csv('../raw_data/product.csv')\n",
    "user_features = pd.read_csv('../raw_data/hh_demographic.csv')\n",
    "\n",
    "# column processing\n",
    "item_features.columns = [col.lower() for col in item_features.columns]\n",
    "user_features.columns = [col.lower() for col in user_features.columns]\n",
    "\n",
    "item_features.rename(columns={'product_id': 'item_id'}, inplace=True)\n",
    "user_features.rename(columns={'household_key': 'user_id'}, inplace=True)\n",
    "\n",
    "val_lvl_1_size_weeks = 6\n",
    "val_lvl_2_size_weeks = 3\n",
    "\n",
    "data_train_lvl_1 = data[data['week_no'] < data['week_no'].max() - (val_lvl_1_size_weeks + val_lvl_2_size_weeks)]\n",
    "data_val_lvl_1 = data[(data['week_no'] >= data['week_no'].max() - (val_lvl_1_size_weeks + val_lvl_2_size_weeks)) &\n",
    "                      (data['week_no'] < data['week_no'].max() - (val_lvl_2_size_weeks))]\n",
    "\n",
    "data_train_lvl_2 = data_val_lvl_1.copy()\n",
    "data_val_lvl_2 = data[data['week_no'] >= data['week_no'].max() - val_lvl_2_size_weeks]\n",
    "\n",
    "data_train_lvl_1.head(2)"
   ]
  },
  {
   "cell_type": "markdown",
   "id": "90427f5c",
   "metadata": {},
   "source": [
    "## Feature filltering"
   ]
  },
  {
   "cell_type": "code",
   "execution_count": 4,
   "id": "9ed3b95b",
   "metadata": {
    "ExecuteTime": {
     "end_time": "2023-03-03T18:42:21.786041Z",
     "start_time": "2023-03-03T18:42:17.490984Z"
    }
   },
   "outputs": [
    {
     "name": "stderr",
     "output_type": "stream",
     "text": [
      "C:\\Users\\Diana\\Documents\\Recsys\\Final Project\\src\\utils.py:23: SettingWithCopyWarning: \n",
      "A value is trying to be set on a copy of a slice from a DataFrame.\n",
      "Try using .loc[row_indexer,col_indexer] = value instead\n",
      "\n",
      "See the caveats in the documentation: https://pandas.pydata.org/pandas-docs/stable/user_guide/indexing.html#returning-a-view-versus-a-copy\n",
      "  data['cost'] = data['sales_value'] / data['quantity']\n"
     ]
    },
    {
     "name": "stdout",
     "output_type": "stream",
     "text": [
      "Decreased # items from 83685 to 5001\n"
     ]
    }
   ],
   "source": [
    "n_items_before = data_train_lvl_1['item_id'].nunique()\n",
    "\n",
    "data_train_lvl_1 = prefilter_items(data_train_lvl_1, take_n_popular=5000)\n",
    "\n",
    "n_items_after = data_train_lvl_1['item_id'].nunique()\n",
    "print('Decreased # items from {} to {}'.format(n_items_before, n_items_after))"
   ]
  },
  {
   "cell_type": "code",
   "execution_count": 5,
   "id": "31bb5a7c",
   "metadata": {
    "ExecuteTime": {
     "end_time": "2023-03-03T18:44:05.508174Z",
     "start_time": "2023-03-03T18:42:22.697101Z"
    }
   },
   "outputs": [
    {
     "name": "stderr",
     "output_type": "stream",
     "text": [
      "C:\\Users\\Diana\\anaconda3\\lib\\site-packages\\implicit\\utils.py:33: UserWarning: Intel MKL BLAS detected. Its highly recommend to set the environment variable 'export MKL_NUM_THREADS=1' to disable its internal multithreading\n",
      "  warnings.warn(\n"
     ]
    },
    {
     "data": {
      "application/vnd.jupyter.widget-view+json": {
       "model_id": "c8e3ca12c4e348cf8c6ef200c1bf48fd",
       "version_major": 2,
       "version_minor": 0
      },
      "text/plain": [
       "  0%|          | 0/66 [00:00<?, ?it/s]"
      ]
     },
     "metadata": {},
     "output_type": "display_data"
    },
    {
     "data": {
      "application/vnd.jupyter.widget-view+json": {
       "model_id": "e5bdc4a0a7ac4901a4e20a98fb896c91",
       "version_major": 2,
       "version_minor": 0
      },
      "text/plain": [
       "  0%|          | 0/5001 [00:00<?, ?it/s]"
      ]
     },
     "metadata": {},
     "output_type": "display_data"
    }
   ],
   "source": [
    "recommender = MainRecommender(data_train_lvl_1, weighting='bm25', fake_id=999999)"
   ]
  },
  {
   "cell_type": "markdown",
   "id": "021ad890",
   "metadata": {},
   "source": [
    "## 1 Level filter items"
   ]
  },
  {
   "cell_type": "code",
   "execution_count": 6,
   "id": "fd87438a",
   "metadata": {
    "ExecuteTime": {
     "end_time": "2023-03-03T18:44:34.672437Z",
     "start_time": "2023-03-03T18:44:07.499571Z"
    }
   },
   "outputs": [
    {
     "data": {
      "text/html": [
       "<div>\n",
       "<style scoped>\n",
       "    .dataframe tbody tr th:only-of-type {\n",
       "        vertical-align: middle;\n",
       "    }\n",
       "\n",
       "    .dataframe tbody tr th {\n",
       "        vertical-align: top;\n",
       "    }\n",
       "\n",
       "    .dataframe thead th {\n",
       "        text-align: right;\n",
       "    }\n",
       "</style>\n",
       "<table border=\"1\" class=\"dataframe\">\n",
       "  <thead>\n",
       "    <tr style=\"text-align: right;\">\n",
       "      <th></th>\n",
       "      <th>user_id</th>\n",
       "      <th>candidates</th>\n",
       "    </tr>\n",
       "  </thead>\n",
       "  <tbody>\n",
       "    <tr>\n",
       "      <th>0</th>\n",
       "      <td>2070</td>\n",
       "      <td>[1081177, 1004906, 9527290, 871756, 951190, 88...</td>\n",
       "    </tr>\n",
       "    <tr>\n",
       "      <th>1</th>\n",
       "      <td>2021</td>\n",
       "      <td>[844179, 1004906, 951590, 1013928, 1000753, 65...</td>\n",
       "    </tr>\n",
       "  </tbody>\n",
       "</table>\n",
       "</div>"
      ],
      "text/plain": [
       "   user_id                                         candidates\n",
       "0     2070  [1081177, 1004906, 9527290, 871756, 951190, 88...\n",
       "1     2021  [844179, 1004906, 951590, 1013928, 1000753, 65..."
      ]
     },
     "execution_count": 6,
     "metadata": {},
     "output_type": "execute_result"
    }
   ],
   "source": [
    "users_lvl_2 = pd.DataFrame(data_train_lvl_2['user_id'].unique())\n",
    "users_lvl_2.columns = ['user_id']\n",
    "\n",
    "train_users = data_train_lvl_1['user_id'].unique()\n",
    "users_lvl_2 = users_lvl_2[users_lvl_2['user_id'].isin(train_users)]\n",
    "\n",
    "users_lvl_2['candidates'] = users_lvl_2['user_id'].apply(\n",
    "    lambda x: recommender.get_als_recommendations(x, N=100))\n",
    "users_lvl_2.head(2)"
   ]
  },
  {
   "cell_type": "markdown",
   "id": "fb95b83e",
   "metadata": {},
   "source": [
    "## 2 Level range items"
   ]
  },
  {
   "cell_type": "markdown",
   "id": "a5793bc3",
   "metadata": {},
   "source": [
    "### Spliting interactions user-item"
   ]
  },
  {
   "cell_type": "code",
   "execution_count": 7,
   "id": "8156aea3",
   "metadata": {
    "ExecuteTime": {
     "end_time": "2023-03-03T18:44:36.682566Z",
     "start_time": "2023-03-03T18:44:35.972650Z"
    }
   },
   "outputs": [
    {
     "data": {
      "text/html": [
       "<div>\n",
       "<style scoped>\n",
       "    .dataframe tbody tr th:only-of-type {\n",
       "        vertical-align: middle;\n",
       "    }\n",
       "\n",
       "    .dataframe tbody tr th {\n",
       "        vertical-align: top;\n",
       "    }\n",
       "\n",
       "    .dataframe thead th {\n",
       "        text-align: right;\n",
       "    }\n",
       "</style>\n",
       "<table border=\"1\" class=\"dataframe\">\n",
       "  <thead>\n",
       "    <tr style=\"text-align: right;\">\n",
       "      <th></th>\n",
       "      <th>user_id</th>\n",
       "      <th>item_id</th>\n",
       "      <th>flag</th>\n",
       "    </tr>\n",
       "  </thead>\n",
       "  <tbody>\n",
       "    <tr>\n",
       "      <th>0</th>\n",
       "      <td>2070</td>\n",
       "      <td>1081177</td>\n",
       "      <td>1</td>\n",
       "    </tr>\n",
       "    <tr>\n",
       "      <th>0</th>\n",
       "      <td>2070</td>\n",
       "      <td>1004906</td>\n",
       "      <td>1</td>\n",
       "    </tr>\n",
       "    <tr>\n",
       "      <th>0</th>\n",
       "      <td>2070</td>\n",
       "      <td>9527290</td>\n",
       "      <td>1</td>\n",
       "    </tr>\n",
       "    <tr>\n",
       "      <th>0</th>\n",
       "      <td>2070</td>\n",
       "      <td>871756</td>\n",
       "      <td>1</td>\n",
       "    </tr>\n",
       "  </tbody>\n",
       "</table>\n",
       "</div>"
      ],
      "text/plain": [
       "   user_id  item_id  flag\n",
       "0     2070  1081177     1\n",
       "0     2070  1004906     1\n",
       "0     2070  9527290     1\n",
       "0     2070   871756     1"
      ]
     },
     "execution_count": 7,
     "metadata": {},
     "output_type": "execute_result"
    }
   ],
   "source": [
    "s = users_lvl_2.apply(lambda x: pd.Series(x['candidates']), axis=1).stack().reset_index(level=1, drop=True)\n",
    "s.name = 'item_id'\n",
    "\n",
    "users_lvl_2 = users_lvl_2.drop('candidates', axis=1).join(s)\n",
    "users_lvl_2['flag'] = 1\n",
    "\n",
    "users_lvl_2.head(4)"
   ]
  },
  {
   "cell_type": "code",
   "execution_count": 8,
   "id": "0a2e431e",
   "metadata": {
    "ExecuteTime": {
     "end_time": "2023-03-03T18:44:39.687625Z",
     "start_time": "2023-03-03T18:44:39.427228Z"
    }
   },
   "outputs": [
    {
     "data": {
      "text/html": [
       "<div>\n",
       "<style scoped>\n",
       "    .dataframe tbody tr th:only-of-type {\n",
       "        vertical-align: middle;\n",
       "    }\n",
       "\n",
       "    .dataframe tbody tr th {\n",
       "        vertical-align: top;\n",
       "    }\n",
       "\n",
       "    .dataframe thead th {\n",
       "        text-align: right;\n",
       "    }\n",
       "</style>\n",
       "<table border=\"1\" class=\"dataframe\">\n",
       "  <thead>\n",
       "    <tr style=\"text-align: right;\">\n",
       "      <th></th>\n",
       "      <th>user_id</th>\n",
       "      <th>item_id</th>\n",
       "      <th>target</th>\n",
       "    </tr>\n",
       "  </thead>\n",
       "  <tbody>\n",
       "    <tr>\n",
       "      <th>0</th>\n",
       "      <td>2070</td>\n",
       "      <td>1081177</td>\n",
       "      <td>0.0</td>\n",
       "    </tr>\n",
       "    <tr>\n",
       "      <th>1</th>\n",
       "      <td>2070</td>\n",
       "      <td>1004906</td>\n",
       "      <td>0.0</td>\n",
       "    </tr>\n",
       "  </tbody>\n",
       "</table>\n",
       "</div>"
      ],
      "text/plain": [
       "   user_id  item_id  target\n",
       "0     2070  1081177     0.0\n",
       "1     2070  1004906     0.0"
      ]
     },
     "execution_count": 8,
     "metadata": {},
     "output_type": "execute_result"
    }
   ],
   "source": [
    "targets_lvl_2 = data_train_lvl_2[['user_id', 'item_id']].copy()\n",
    "targets_lvl_2['target'] = 1\n",
    "\n",
    "targets_lvl_2 = users_lvl_2.merge(targets_lvl_2, on=['user_id', 'item_id'], how='left')\n",
    "\n",
    "targets_lvl_2['target'].fillna(0, inplace= True)\n",
    "targets_lvl_2.drop('flag', axis=1, inplace=True)\n",
    "\n",
    "targets_lvl_2.head(2)"
   ]
  },
  {
   "cell_type": "markdown",
   "id": "7edae62f",
   "metadata": {},
   "source": [
    "### Adding new features"
   ]
  },
  {
   "cell_type": "code",
   "execution_count": 10,
   "id": "841c462c",
   "metadata": {
    "ExecuteTime": {
     "end_time": "2023-03-03T18:45:08.249790Z",
     "start_time": "2023-03-03T18:45:03.909270Z"
    }
   },
   "outputs": [
    {
     "data": {
      "text/html": [
       "<div>\n",
       "<style scoped>\n",
       "    .dataframe tbody tr th:only-of-type {\n",
       "        vertical-align: middle;\n",
       "    }\n",
       "\n",
       "    .dataframe tbody tr th {\n",
       "        vertical-align: top;\n",
       "    }\n",
       "\n",
       "    .dataframe thead th {\n",
       "        text-align: right;\n",
       "    }\n",
       "</style>\n",
       "<table border=\"1\" class=\"dataframe\">\n",
       "  <thead>\n",
       "    <tr style=\"text-align: right;\">\n",
       "      <th></th>\n",
       "      <th>user_id</th>\n",
       "      <th>user_cluster</th>\n",
       "      <th>0</th>\n",
       "      <th>1</th>\n",
       "      <th>2</th>\n",
       "      <th>3</th>\n",
       "    </tr>\n",
       "  </thead>\n",
       "  <tbody>\n",
       "    <tr>\n",
       "      <th>0</th>\n",
       "      <td>1</td>\n",
       "      <td>3</td>\n",
       "      <td>-4.906880</td>\n",
       "      <td>2.408390</td>\n",
       "      <td>2.205970</td>\n",
       "      <td>-2.363170</td>\n",
       "    </tr>\n",
       "    <tr>\n",
       "      <th>1</th>\n",
       "      <td>2</td>\n",
       "      <td>6</td>\n",
       "      <td>-1.523228</td>\n",
       "      <td>1.140090</td>\n",
       "      <td>2.956241</td>\n",
       "      <td>-0.184863</td>\n",
       "    </tr>\n",
       "    <tr>\n",
       "      <th>2</th>\n",
       "      <td>3</td>\n",
       "      <td>6</td>\n",
       "      <td>6.809963</td>\n",
       "      <td>5.794197</td>\n",
       "      <td>1.858696</td>\n",
       "      <td>1.845454</td>\n",
       "    </tr>\n",
       "  </tbody>\n",
       "</table>\n",
       "</div>"
      ],
      "text/plain": [
       "   user_id  user_cluster         0         1         2         3\n",
       "0        1             3 -4.906880  2.408390  2.205970 -2.363170\n",
       "1        2             6 -1.523228  1.140090  2.956241 -0.184863\n",
       "2        3             6  6.809963  5.794197  1.858696  1.845454"
      ]
     },
     "execution_count": 10,
     "metadata": {},
     "output_type": "execute_result"
    }
   ],
   "source": [
    "user_emb = pd.DataFrame(recommender.model.user_factors[:-10], columns=[f'users_{i}' for i in range(350)])\n",
    "\n",
    "pca = PCA(n_components=4, random_state=42)\n",
    "us_emb = pd.DataFrame(pca.fit_transform(user_emb))\n",
    "\n",
    "kmeans = KMeans(n_clusters=7, random_state=4, n_init=15)\n",
    "user_emb['user_cluster'] = kmeans.fit_predict(user_emb)\n",
    "\n",
    "user_emb['user_id'] = data_train_lvl_1.sort_values('user_id').user_id.unique()\n",
    "us_emb['user_id'] = data_train_lvl_1.sort_values('user_id').user_id.unique()\n",
    "\n",
    "user_emb = user_emb[['user_id', 'user_cluster']]\n",
    "\n",
    "user_emb = user_emb.merge(us_emb, on='user_id', how='inner')\n",
    "user_emb.head(3)"
   ]
  },
  {
   "cell_type": "code",
   "execution_count": 11,
   "id": "39dcbcf1",
   "metadata": {
    "ExecuteTime": {
     "end_time": "2023-03-03T18:45:17.015412Z",
     "start_time": "2023-03-03T18:45:09.289088Z"
    }
   },
   "outputs": [
    {
     "data": {
      "text/html": [
       "<div>\n",
       "<style scoped>\n",
       "    .dataframe tbody tr th:only-of-type {\n",
       "        vertical-align: middle;\n",
       "    }\n",
       "\n",
       "    .dataframe tbody tr th {\n",
       "        vertical-align: top;\n",
       "    }\n",
       "\n",
       "    .dataframe thead th {\n",
       "        text-align: right;\n",
       "    }\n",
       "</style>\n",
       "<table border=\"1\" class=\"dataframe\">\n",
       "  <thead>\n",
       "    <tr style=\"text-align: right;\">\n",
       "      <th></th>\n",
       "      <th>item_id</th>\n",
       "      <th>item_cluster</th>\n",
       "      <th>0</th>\n",
       "      <th>1</th>\n",
       "      <th>2</th>\n",
       "      <th>3</th>\n",
       "    </tr>\n",
       "  </thead>\n",
       "  <tbody>\n",
       "    <tr>\n",
       "      <th>0</th>\n",
       "      <td>818980</td>\n",
       "      <td>5</td>\n",
       "      <td>0.002968</td>\n",
       "      <td>-0.012494</td>\n",
       "      <td>-0.003680</td>\n",
       "      <td>0.004811</td>\n",
       "    </tr>\n",
       "    <tr>\n",
       "      <th>1</th>\n",
       "      <td>818981</td>\n",
       "      <td>2</td>\n",
       "      <td>-0.016989</td>\n",
       "      <td>-0.010519</td>\n",
       "      <td>0.002110</td>\n",
       "      <td>-0.011907</td>\n",
       "    </tr>\n",
       "    <tr>\n",
       "      <th>2</th>\n",
       "      <td>819063</td>\n",
       "      <td>1</td>\n",
       "      <td>-0.040984</td>\n",
       "      <td>0.010901</td>\n",
       "      <td>-0.007933</td>\n",
       "      <td>0.004065</td>\n",
       "    </tr>\n",
       "  </tbody>\n",
       "</table>\n",
       "</div>"
      ],
      "text/plain": [
       "   item_id  item_cluster         0         1         2         3\n",
       "0   818980             5  0.002968 -0.012494 -0.003680  0.004811\n",
       "1   818981             2 -0.016989 -0.010519  0.002110 -0.011907\n",
       "2   819063             1 -0.040984  0.010901 -0.007933  0.004065"
      ]
     },
     "execution_count": 11,
     "metadata": {},
     "output_type": "execute_result"
    }
   ],
   "source": [
    "item_emb = pd.DataFrame(recommender.model.item_factors, columns=[f'item_{i}' for i in range(350)])\n",
    "\n",
    "pca = PCA(n_components=4, random_state=42)\n",
    "it_emb = pd.DataFrame(pca.fit_transform(item_emb))\n",
    "\n",
    "kmeans = KMeans(n_clusters=7, random_state=4, n_init=15)\n",
    "item_emb['item_cluster'] = kmeans.fit_predict(item_emb)\n",
    "\n",
    "item_emb['item_id'] = data_train_lvl_1.sort_values('item_id').item_id.unique()\n",
    "it_emb['item_id'] = data_train_lvl_1.sort_values('item_id').item_id.unique()\n",
    "\n",
    "item_emb = item_emb[['item_id', 'item_cluster']]\n",
    "\n",
    "item_emb = item_emb.merge(it_emb, on='item_id', how='inner')\n",
    "item_emb.head(3)"
   ]
  },
  {
   "cell_type": "code",
   "execution_count": 12,
   "id": "96c42dea",
   "metadata": {
    "ExecuteTime": {
     "end_time": "2023-03-03T18:45:18.092700Z",
     "start_time": "2023-03-03T18:45:17.868704Z"
    }
   },
   "outputs": [
    {
     "data": {
      "text/html": [
       "<div>\n",
       "<style scoped>\n",
       "    .dataframe tbody tr th:only-of-type {\n",
       "        vertical-align: middle;\n",
       "    }\n",
       "\n",
       "    .dataframe tbody tr th {\n",
       "        vertical-align: top;\n",
       "    }\n",
       "\n",
       "    .dataframe thead th {\n",
       "        text-align: right;\n",
       "    }\n",
       "</style>\n",
       "<table border=\"1\" class=\"dataframe\">\n",
       "  <thead>\n",
       "    <tr style=\"text-align: right;\">\n",
       "      <th></th>\n",
       "      <th>user_id</th>\n",
       "      <th>item_id</th>\n",
       "      <th>target</th>\n",
       "      <th>item_cluster</th>\n",
       "      <th>0_x</th>\n",
       "      <th>1_x</th>\n",
       "      <th>2_x</th>\n",
       "      <th>3_x</th>\n",
       "      <th>user_cluster</th>\n",
       "      <th>0_y</th>\n",
       "      <th>1_y</th>\n",
       "      <th>2_y</th>\n",
       "      <th>3_y</th>\n",
       "    </tr>\n",
       "  </thead>\n",
       "  <tbody>\n",
       "    <tr>\n",
       "      <th>0</th>\n",
       "      <td>2070</td>\n",
       "      <td>1081177</td>\n",
       "      <td>0.0</td>\n",
       "      <td>6</td>\n",
       "      <td>0.042191</td>\n",
       "      <td>0.089091</td>\n",
       "      <td>0.030114</td>\n",
       "      <td>0.006331</td>\n",
       "      <td>4</td>\n",
       "      <td>2.836835</td>\n",
       "      <td>-0.303434</td>\n",
       "      <td>0.833537</td>\n",
       "      <td>3.104106</td>\n",
       "    </tr>\n",
       "    <tr>\n",
       "      <th>1</th>\n",
       "      <td>2070</td>\n",
       "      <td>1004906</td>\n",
       "      <td>0.0</td>\n",
       "      <td>6</td>\n",
       "      <td>0.052340</td>\n",
       "      <td>0.101875</td>\n",
       "      <td>-0.007157</td>\n",
       "      <td>0.016960</td>\n",
       "      <td>4</td>\n",
       "      <td>2.836835</td>\n",
       "      <td>-0.303434</td>\n",
       "      <td>0.833537</td>\n",
       "      <td>3.104106</td>\n",
       "    </tr>\n",
       "  </tbody>\n",
       "</table>\n",
       "</div>"
      ],
      "text/plain": [
       "   user_id  item_id  target  item_cluster       0_x       1_x       2_x  \\\n",
       "0     2070  1081177     0.0             6  0.042191  0.089091  0.030114   \n",
       "1     2070  1004906     0.0             6  0.052340  0.101875 -0.007157   \n",
       "\n",
       "        3_x  user_cluster       0_y       1_y       2_y       3_y  \n",
       "0  0.006331             4  2.836835 -0.303434  0.833537  3.104106  \n",
       "1  0.016960             4  2.836835 -0.303434  0.833537  3.104106  "
      ]
     },
     "execution_count": 12,
     "metadata": {},
     "output_type": "execute_result"
    }
   ],
   "source": [
    "targets_lvl_2 = targets_lvl_2.merge(item_emb, on='item_id', how='left')\n",
    "targets_lvl_2 = targets_lvl_2.merge(user_emb, on='user_id', how='left')\n",
    "\n",
    "targets_lvl_2.head(2)"
   ]
  },
  {
   "cell_type": "code",
   "execution_count": 13,
   "id": "47bed843",
   "metadata": {
    "ExecuteTime": {
     "end_time": "2023-03-03T18:46:11.909248Z",
     "start_time": "2023-03-03T18:46:06.440897Z"
    }
   },
   "outputs": [
    {
     "data": {
      "text/html": [
       "<div>\n",
       "<style scoped>\n",
       "    .dataframe tbody tr th:only-of-type {\n",
       "        vertical-align: middle;\n",
       "    }\n",
       "\n",
       "    .dataframe tbody tr th {\n",
       "        vertical-align: top;\n",
       "    }\n",
       "\n",
       "    .dataframe thead th {\n",
       "        text-align: right;\n",
       "    }\n",
       "</style>\n",
       "<table border=\"1\" class=\"dataframe\">\n",
       "  <thead>\n",
       "    <tr style=\"text-align: right;\">\n",
       "      <th></th>\n",
       "      <th>user_id</th>\n",
       "      <th>basket_id</th>\n",
       "      <th>day</th>\n",
       "      <th>item_id</th>\n",
       "      <th>quantity</th>\n",
       "      <th>sales_value</th>\n",
       "      <th>store_id</th>\n",
       "      <th>retail_disc</th>\n",
       "      <th>trans_time</th>\n",
       "      <th>week_no</th>\n",
       "      <th>...</th>\n",
       "      <th>homeowner_desc</th>\n",
       "      <th>hh_comp_desc</th>\n",
       "      <th>household_size_desc</th>\n",
       "      <th>kid_category_desc</th>\n",
       "      <th>age_cat_q</th>\n",
       "      <th>income_cat_q</th>\n",
       "      <th>kid_cat_q</th>\n",
       "      <th>age_val_pcat</th>\n",
       "      <th>income_val_pcat</th>\n",
       "      <th>kid_val_pcat</th>\n",
       "    </tr>\n",
       "  </thead>\n",
       "  <tbody>\n",
       "    <tr>\n",
       "      <th>0</th>\n",
       "      <td>1753</td>\n",
       "      <td>40618809138</td>\n",
       "      <td>594</td>\n",
       "      <td>1022537</td>\n",
       "      <td>1</td>\n",
       "      <td>1.39</td>\n",
       "      <td>345</td>\n",
       "      <td>0.00</td>\n",
       "      <td>8</td>\n",
       "      <td>86</td>\n",
       "      <td>...</td>\n",
       "      <td>Homeowner</td>\n",
       "      <td>Unknown</td>\n",
       "      <td>1</td>\n",
       "      <td>None/Unknown</td>\n",
       "      <td>0.001143</td>\n",
       "      <td>0.001163</td>\n",
       "      <td>0.001113</td>\n",
       "      <td>3.808629</td>\n",
       "      <td>3.778206</td>\n",
       "      <td>3.836401</td>\n",
       "    </tr>\n",
       "    <tr>\n",
       "      <th>1</th>\n",
       "      <td>1753</td>\n",
       "      <td>40618809138</td>\n",
       "      <td>594</td>\n",
       "      <td>1128422</td>\n",
       "      <td>1</td>\n",
       "      <td>1.45</td>\n",
       "      <td>345</td>\n",
       "      <td>-0.14</td>\n",
       "      <td>8</td>\n",
       "      <td>86</td>\n",
       "      <td>...</td>\n",
       "      <td>Homeowner</td>\n",
       "      <td>Unknown</td>\n",
       "      <td>1</td>\n",
       "      <td>None/Unknown</td>\n",
       "      <td>0.001143</td>\n",
       "      <td>0.001163</td>\n",
       "      <td>0.001113</td>\n",
       "      <td>3.808629</td>\n",
       "      <td>3.778206</td>\n",
       "      <td>3.836401</td>\n",
       "    </tr>\n",
       "    <tr>\n",
       "      <th>2</th>\n",
       "      <td>1753</td>\n",
       "      <td>40618809138</td>\n",
       "      <td>594</td>\n",
       "      <td>6773055</td>\n",
       "      <td>1</td>\n",
       "      <td>29.99</td>\n",
       "      <td>345</td>\n",
       "      <td>0.00</td>\n",
       "      <td>8</td>\n",
       "      <td>86</td>\n",
       "      <td>...</td>\n",
       "      <td>Homeowner</td>\n",
       "      <td>Unknown</td>\n",
       "      <td>1</td>\n",
       "      <td>None/Unknown</td>\n",
       "      <td>0.001143</td>\n",
       "      <td>0.001163</td>\n",
       "      <td>0.001113</td>\n",
       "      <td>3.808629</td>\n",
       "      <td>3.778206</td>\n",
       "      <td>3.836401</td>\n",
       "    </tr>\n",
       "    <tr>\n",
       "      <th>3</th>\n",
       "      <td>1753</td>\n",
       "      <td>40618809138</td>\n",
       "      <td>594</td>\n",
       "      <td>10285106</td>\n",
       "      <td>1</td>\n",
       "      <td>1.00</td>\n",
       "      <td>345</td>\n",
       "      <td>-0.49</td>\n",
       "      <td>8</td>\n",
       "      <td>86</td>\n",
       "      <td>...</td>\n",
       "      <td>Homeowner</td>\n",
       "      <td>Unknown</td>\n",
       "      <td>1</td>\n",
       "      <td>None/Unknown</td>\n",
       "      <td>0.001143</td>\n",
       "      <td>0.001163</td>\n",
       "      <td>0.001113</td>\n",
       "      <td>3.808629</td>\n",
       "      <td>3.778206</td>\n",
       "      <td>3.836401</td>\n",
       "    </tr>\n",
       "    <tr>\n",
       "      <th>4</th>\n",
       "      <td>1753</td>\n",
       "      <td>40618809138</td>\n",
       "      <td>594</td>\n",
       "      <td>17105257</td>\n",
       "      <td>1</td>\n",
       "      <td>1.00</td>\n",
       "      <td>345</td>\n",
       "      <td>-0.49</td>\n",
       "      <td>8</td>\n",
       "      <td>86</td>\n",
       "      <td>...</td>\n",
       "      <td>Homeowner</td>\n",
       "      <td>Unknown</td>\n",
       "      <td>1</td>\n",
       "      <td>None/Unknown</td>\n",
       "      <td>0.001143</td>\n",
       "      <td>0.001163</td>\n",
       "      <td>0.001113</td>\n",
       "      <td>3.808629</td>\n",
       "      <td>3.778206</td>\n",
       "      <td>3.836401</td>\n",
       "    </tr>\n",
       "    <tr>\n",
       "      <th>...</th>\n",
       "      <td>...</td>\n",
       "      <td>...</td>\n",
       "      <td>...</td>\n",
       "      <td>...</td>\n",
       "      <td>...</td>\n",
       "      <td>...</td>\n",
       "      <td>...</td>\n",
       "      <td>...</td>\n",
       "      <td>...</td>\n",
       "      <td>...</td>\n",
       "      <td>...</td>\n",
       "      <td>...</td>\n",
       "      <td>...</td>\n",
       "      <td>...</td>\n",
       "      <td>...</td>\n",
       "      <td>...</td>\n",
       "      <td>...</td>\n",
       "      <td>...</td>\n",
       "      <td>...</td>\n",
       "      <td>...</td>\n",
       "      <td>...</td>\n",
       "    </tr>\n",
       "    <tr>\n",
       "      <th>169706</th>\n",
       "      <td>1257</td>\n",
       "      <td>41260156777</td>\n",
       "      <td>635</td>\n",
       "      <td>13511916</td>\n",
       "      <td>1</td>\n",
       "      <td>0.89</td>\n",
       "      <td>309</td>\n",
       "      <td>0.00</td>\n",
       "      <td>1655</td>\n",
       "      <td>91</td>\n",
       "      <td>...</td>\n",
       "      <td>Homeowner</td>\n",
       "      <td>2 Adults Kids</td>\n",
       "      <td>3</td>\n",
       "      <td>1</td>\n",
       "      <td>0.006802</td>\n",
       "      <td>0.006555</td>\n",
       "      <td>0.009400</td>\n",
       "      <td>2.503938</td>\n",
       "      <td>2.510717</td>\n",
       "      <td>2.494477</td>\n",
       "    </tr>\n",
       "    <tr>\n",
       "      <th>169707</th>\n",
       "      <td>1784</td>\n",
       "      <td>41260412740</td>\n",
       "      <td>635</td>\n",
       "      <td>960503</td>\n",
       "      <td>1</td>\n",
       "      <td>5.59</td>\n",
       "      <td>404</td>\n",
       "      <td>-2.40</td>\n",
       "      <td>1810</td>\n",
       "      <td>91</td>\n",
       "      <td>...</td>\n",
       "      <td>NaN</td>\n",
       "      <td>NaN</td>\n",
       "      <td>NaN</td>\n",
       "      <td>NaN</td>\n",
       "      <td>NaN</td>\n",
       "      <td>NaN</td>\n",
       "      <td>NaN</td>\n",
       "      <td>NaN</td>\n",
       "      <td>NaN</td>\n",
       "      <td>NaN</td>\n",
       "    </tr>\n",
       "    <tr>\n",
       "      <th>169708</th>\n",
       "      <td>1784</td>\n",
       "      <td>41260412740</td>\n",
       "      <td>635</td>\n",
       "      <td>962568</td>\n",
       "      <td>1</td>\n",
       "      <td>1.89</td>\n",
       "      <td>404</td>\n",
       "      <td>0.00</td>\n",
       "      <td>1810</td>\n",
       "      <td>91</td>\n",
       "      <td>...</td>\n",
       "      <td>NaN</td>\n",
       "      <td>NaN</td>\n",
       "      <td>NaN</td>\n",
       "      <td>NaN</td>\n",
       "      <td>NaN</td>\n",
       "      <td>NaN</td>\n",
       "      <td>NaN</td>\n",
       "      <td>NaN</td>\n",
       "      <td>NaN</td>\n",
       "      <td>NaN</td>\n",
       "    </tr>\n",
       "    <tr>\n",
       "      <th>169709</th>\n",
       "      <td>1784</td>\n",
       "      <td>41260412740</td>\n",
       "      <td>635</td>\n",
       "      <td>979707</td>\n",
       "      <td>1</td>\n",
       "      <td>1.65</td>\n",
       "      <td>404</td>\n",
       "      <td>0.00</td>\n",
       "      <td>1810</td>\n",
       "      <td>91</td>\n",
       "      <td>...</td>\n",
       "      <td>NaN</td>\n",
       "      <td>NaN</td>\n",
       "      <td>NaN</td>\n",
       "      <td>NaN</td>\n",
       "      <td>NaN</td>\n",
       "      <td>NaN</td>\n",
       "      <td>NaN</td>\n",
       "      <td>NaN</td>\n",
       "      <td>NaN</td>\n",
       "      <td>NaN</td>\n",
       "    </tr>\n",
       "    <tr>\n",
       "      <th>169710</th>\n",
       "      <td>1784</td>\n",
       "      <td>41260412740</td>\n",
       "      <td>635</td>\n",
       "      <td>1082185</td>\n",
       "      <td>1</td>\n",
       "      <td>1.23</td>\n",
       "      <td>404</td>\n",
       "      <td>0.00</td>\n",
       "      <td>1810</td>\n",
       "      <td>91</td>\n",
       "      <td>...</td>\n",
       "      <td>NaN</td>\n",
       "      <td>NaN</td>\n",
       "      <td>NaN</td>\n",
       "      <td>NaN</td>\n",
       "      <td>NaN</td>\n",
       "      <td>NaN</td>\n",
       "      <td>NaN</td>\n",
       "      <td>NaN</td>\n",
       "      <td>NaN</td>\n",
       "      <td>NaN</td>\n",
       "    </tr>\n",
       "  </tbody>\n",
       "</table>\n",
       "<p>169711 rows × 43 columns</p>\n",
       "</div>"
      ],
      "text/plain": [
       "        user_id    basket_id  day   item_id  quantity  sales_value  store_id  \\\n",
       "0          1753  40618809138  594   1022537         1         1.39       345   \n",
       "1          1753  40618809138  594   1128422         1         1.45       345   \n",
       "2          1753  40618809138  594   6773055         1        29.99       345   \n",
       "3          1753  40618809138  594  10285106         1         1.00       345   \n",
       "4          1753  40618809138  594  17105257         1         1.00       345   \n",
       "...         ...          ...  ...       ...       ...          ...       ...   \n",
       "169706     1257  41260156777  635  13511916         1         0.89       309   \n",
       "169707     1784  41260412740  635    960503         1         5.59       404   \n",
       "169708     1784  41260412740  635    962568         1         1.89       404   \n",
       "169709     1784  41260412740  635    979707         1         1.65       404   \n",
       "169710     1784  41260412740  635   1082185         1         1.23       404   \n",
       "\n",
       "        retail_disc  trans_time  week_no  ...  homeowner_desc   hh_comp_desc  \\\n",
       "0              0.00           8       86  ...       Homeowner        Unknown   \n",
       "1             -0.14           8       86  ...       Homeowner        Unknown   \n",
       "2              0.00           8       86  ...       Homeowner        Unknown   \n",
       "3             -0.49           8       86  ...       Homeowner        Unknown   \n",
       "4             -0.49           8       86  ...       Homeowner        Unknown   \n",
       "...             ...         ...      ...  ...             ...            ...   \n",
       "169706         0.00        1655       91  ...       Homeowner  2 Adults Kids   \n",
       "169707        -2.40        1810       91  ...             NaN            NaN   \n",
       "169708         0.00        1810       91  ...             NaN            NaN   \n",
       "169709         0.00        1810       91  ...             NaN            NaN   \n",
       "169710         0.00        1810       91  ...             NaN            NaN   \n",
       "\n",
       "        household_size_desc  kid_category_desc age_cat_q income_cat_q  \\\n",
       "0                         1       None/Unknown  0.001143     0.001163   \n",
       "1                         1       None/Unknown  0.001143     0.001163   \n",
       "2                         1       None/Unknown  0.001143     0.001163   \n",
       "3                         1       None/Unknown  0.001143     0.001163   \n",
       "4                         1       None/Unknown  0.001143     0.001163   \n",
       "...                     ...                ...       ...          ...   \n",
       "169706                    3                  1  0.006802     0.006555   \n",
       "169707                  NaN                NaN       NaN          NaN   \n",
       "169708                  NaN                NaN       NaN          NaN   \n",
       "169709                  NaN                NaN       NaN          NaN   \n",
       "169710                  NaN                NaN       NaN          NaN   \n",
       "\n",
       "       kid_cat_q age_val_pcat income_val_pcat  kid_val_pcat  \n",
       "0       0.001113     3.808629        3.778206      3.836401  \n",
       "1       0.001113     3.808629        3.778206      3.836401  \n",
       "2       0.001113     3.808629        3.778206      3.836401  \n",
       "3       0.001113     3.808629        3.778206      3.836401  \n",
       "4       0.001113     3.808629        3.778206      3.836401  \n",
       "...          ...          ...             ...           ...  \n",
       "169706  0.009400     2.503938        2.510717      2.494477  \n",
       "169707       NaN          NaN             NaN           NaN  \n",
       "169708       NaN          NaN             NaN           NaN  \n",
       "169709       NaN          NaN             NaN           NaN  \n",
       "169710       NaN          NaN             NaN           NaN  \n",
       "\n",
       "[169711 rows x 43 columns]"
      ]
     },
     "execution_count": 13,
     "metadata": {},
     "output_type": "execute_result"
    }
   ],
   "source": [
    "data_train_lvl_2 = generate_fs(data_train_lvl_2, item_features, user_features)\n",
    "data_train_lvl_2"
   ]
  },
  {
   "cell_type": "code",
   "execution_count": 14,
   "id": "3f206053",
   "metadata": {
    "ExecuteTime": {
     "end_time": "2023-03-03T18:46:17.988469Z",
     "start_time": "2023-03-03T18:46:16.056146Z"
    }
   },
   "outputs": [],
   "source": [
    "targets_lvl_2 = targets_lvl_2.merge(data_train_lvl_2, on=['user_id', 'item_id'], how='left')"
   ]
  },
  {
   "cell_type": "code",
   "execution_count": 15,
   "id": "41db73a8",
   "metadata": {
    "ExecuteTime": {
     "end_time": "2023-03-03T18:46:19.662715Z",
     "start_time": "2023-03-03T18:46:19.225709Z"
    }
   },
   "outputs": [],
   "source": [
    "X_train = targets_lvl_2.drop('target', axis=1)\n",
    "y_train = targets_lvl_2[['target']]"
   ]
  },
  {
   "cell_type": "code",
   "execution_count": 16,
   "id": "e0149513",
   "metadata": {
    "ExecuteTime": {
     "end_time": "2023-03-03T18:46:26.018490Z",
     "start_time": "2023-03-03T18:46:24.837437Z"
    }
   },
   "outputs": [],
   "source": [
    "cat_feats = ['manufacturer', 'department', 'brand', 'commodity_desc', 'sub_commodity_desc', \n",
    "             'curr_size_of_product', 'age_desc', 'marital_status_code', 'income_desc', \n",
    "             'homeowner_desc', 'hh_comp_desc', 'household_size_desc', 'kid_category_desc',\n",
    "            'daytime', 'pop_cat', 'item_cluster', 'user_cluster']\n",
    "X_train[cat_feats] = X_train[cat_feats].astype('category')"
   ]
  },
  {
   "cell_type": "markdown",
   "id": "41d5e691",
   "metadata": {},
   "source": [
    "### Training model"
   ]
  },
  {
   "cell_type": "code",
   "execution_count": 17,
   "id": "275bd4da",
   "metadata": {
    "ExecuteTime": {
     "end_time": "2023-03-03T18:46:37.866525Z",
     "start_time": "2023-03-03T18:46:31.552148Z"
    }
   },
   "outputs": [
    {
     "name": "stderr",
     "output_type": "stream",
     "text": [
      "C:\\Users\\Diana\\anaconda3\\lib\\site-packages\\sklearn\\preprocessing\\_label.py:98: DataConversionWarning: A column-vector y was passed when a 1d array was expected. Please change the shape of y to (n_samples, ), for example using ravel().\n",
      "  y = column_or_1d(y, warn=True)\n",
      "C:\\Users\\Diana\\anaconda3\\lib\\site-packages\\sklearn\\preprocessing\\_label.py:133: DataConversionWarning: A column-vector y was passed when a 1d array was expected. Please change the shape of y to (n_samples, ), for example using ravel().\n",
      "  y = column_or_1d(y, warn=True)\n",
      "C:\\Users\\Diana\\anaconda3\\lib\\site-packages\\lightgbm\\basic.py:1513: UserWarning: categorical_column in param dict is overridden.\n",
      "  _log_warning(f'{cat_alias} in param dict is overridden.')\n"
     ]
    },
    {
     "data": {
      "text/plain": [
       "array([[9.99858442e-01, 1.41557789e-04],\n",
       "       [9.99858442e-01, 1.41557789e-04],\n",
       "       [9.99858442e-01, 1.41557789e-04],\n",
       "       ...,\n",
       "       [9.99858442e-01, 1.41557789e-04],\n",
       "       [9.99858442e-01, 1.41557789e-04],\n",
       "       [9.99858442e-01, 1.41557789e-04]])"
      ]
     },
     "execution_count": 17,
     "metadata": {},
     "output_type": "execute_result"
    }
   ],
   "source": [
    "lgb = LGBMClassifier(objective='binary', \n",
    "                     max_depth=5, \n",
    "                     n_estimators=75,\n",
    "                     categorical_column=cat_feats)\n",
    "lgb.fit(X_train, y_train)\n",
    "\n",
    "pred_proba = lgb.predict_proba(X_train)\n",
    "pred_proba"
   ]
  },
  {
   "cell_type": "markdown",
   "id": "56c87e76",
   "metadata": {},
   "source": [
    "### Features sorting"
   ]
  },
  {
   "cell_type": "code",
   "execution_count": 18,
   "id": "07144fad",
   "metadata": {
    "ExecuteTime": {
     "end_time": "2023-03-03T18:46:39.737355Z",
     "start_time": "2023-03-03T18:46:38.675972Z"
    }
   },
   "outputs": [
    {
     "data": {
      "text/html": [
       "<div>\n",
       "<style scoped>\n",
       "    .dataframe tbody tr th:only-of-type {\n",
       "        vertical-align: middle;\n",
       "    }\n",
       "\n",
       "    .dataframe tbody tr th {\n",
       "        vertical-align: top;\n",
       "    }\n",
       "\n",
       "    .dataframe thead th {\n",
       "        text-align: right;\n",
       "    }\n",
       "</style>\n",
       "<table border=\"1\" class=\"dataframe\">\n",
       "  <thead>\n",
       "    <tr style=\"text-align: right;\">\n",
       "      <th></th>\n",
       "      <th>user_id</th>\n",
       "      <th>actual</th>\n",
       "      <th>items</th>\n",
       "      <th>proba</th>\n",
       "      <th>pred</th>\n",
       "    </tr>\n",
       "  </thead>\n",
       "  <tbody>\n",
       "    <tr>\n",
       "      <th>0</th>\n",
       "      <td>1</td>\n",
       "      <td>[940947, 856942, 10149640, 865456, 5577022, 10...</td>\n",
       "      <td>[[1033142, 865178, 9527290, 940947, 940947, 94...</td>\n",
       "      <td>[[128, 47, 32, 95, 33, 36, 37, 38, 39, 42, 45,...</td>\n",
       "      <td>[871570, 9655212, 5577022, 1082212, 1004906, 1...</td>\n",
       "    </tr>\n",
       "    <tr>\n",
       "      <th>1</th>\n",
       "      <td>2</td>\n",
       "      <td>[1133018, 1106523, 916122, 1053690, 901062, 10...</td>\n",
       "      <td>[[5569230, 1133018, 1106523, 8090521, 916122, ...</td>\n",
       "      <td>[[8, 1, 2, 4, 93, 98, 58, 63, 43, 23, 67, 26, ...</td>\n",
       "      <td>[1053690, 1133018, 1106523, 916122, 1035843, 9...</td>\n",
       "    </tr>\n",
       "    <tr>\n",
       "      <th>2</th>\n",
       "      <td>4</td>\n",
       "      <td>[883932, 891423, 962229, 908283, 6773204]</td>\n",
       "      <td>[[840361, 883932, 883932, 883932, 883932, 5569...</td>\n",
       "      <td>[[13, 7, 41, 44, 32, 43, 42, 4, 3, 2, 1, 74, 6...</td>\n",
       "      <td>[962229, 891423, 6773204, 908283, 883932, 9085...</td>\n",
       "    </tr>\n",
       "    <tr>\n",
       "      <th>3</th>\n",
       "      <td>6</td>\n",
       "      <td>[878996, 962568, 1024306, 1098844, 845208, 895...</td>\n",
       "      <td>[[904360, 961554, 878996, 1041796, 934639, 866...</td>\n",
       "      <td>[[80, 77, 102, 103, 104, 105, 106, 107, 108, 1...</td>\n",
       "      <td>[900802, 1119051, 994928, 1037863, 1024306, 96...</td>\n",
       "    </tr>\n",
       "    <tr>\n",
       "      <th>4</th>\n",
       "      <td>7</td>\n",
       "      <td>[1106523, 1122358, 1133018, 1022003, 5591154, ...</td>\n",
       "      <td>[[987724, 1106523, 826249, 1122358, 849843, 11...</td>\n",
       "      <td>[[43, 5, 50, 51, 32, 14, 91, 13, 63, 94, 3, 1,...</td>\n",
       "      <td>[836281, 1133018, 993638, 1110572, 1126899, 55...</td>\n",
       "    </tr>\n",
       "    <tr>\n",
       "      <th>...</th>\n",
       "      <td>...</td>\n",
       "      <td>...</td>\n",
       "      <td>...</td>\n",
       "      <td>...</td>\n",
       "      <td>...</td>\n",
       "    </tr>\n",
       "    <tr>\n",
       "      <th>1929</th>\n",
       "      <td>2496</td>\n",
       "      <td>[979707, 12810393, 883404, 916122, 1106523, 99...</td>\n",
       "      <td>[[1040371, 859075, 1044078, 840361, 1133018, 8...</td>\n",
       "      <td>[[117, 70, 20, 21, 22, 23, 88, 24, 45, 25, 44,...</td>\n",
       "      <td>[957741, 1041796, 1106523, 820122, 995785, 105...</td>\n",
       "    </tr>\n",
       "    <tr>\n",
       "      <th>1930</th>\n",
       "      <td>2497</td>\n",
       "      <td>[1055646, 862349, 834484, 845208, 860776, 1038...</td>\n",
       "      <td>[[826249, 957951, 972665, 1042907, 951590, 999...</td>\n",
       "      <td>[[116, 28, 90, 30, 87, 31, 33, 82, 34, 35, 36,...</td>\n",
       "      <td>[970202, 860776, 900802, 870515, 965719, 10382...</td>\n",
       "    </tr>\n",
       "    <tr>\n",
       "      <th>1931</th>\n",
       "      <td>2498</td>\n",
       "      <td>[1053690, 1070820, 1106523, 1100379, 961554, 9...</td>\n",
       "      <td>[[1053690, 1070820, 1070820, 1070820, 1070820,...</td>\n",
       "      <td>[[0, 9, 34, 38, 66, 12, 10, 11, 4, 3, 2, 1, 80...</td>\n",
       "      <td>[1053690, 1106523, 1100379, 961554, 951197, 10...</td>\n",
       "    </tr>\n",
       "    <tr>\n",
       "      <th>1932</th>\n",
       "      <td>2499</td>\n",
       "      <td>[883404, 826249, 5568378, 899624, 904129, 1070...</td>\n",
       "      <td>[[1004906, 952163, 965766, 1110572, 883404, 82...</td>\n",
       "      <td>[[21, 18, 89, 90, 91, 20, 17, 16, 15, 83, 82, ...</td>\n",
       "      <td>[904129, 5568378, 1060872, 899624, 5569327, 84...</td>\n",
       "    </tr>\n",
       "    <tr>\n",
       "      <th>1933</th>\n",
       "      <td>2500</td>\n",
       "      <td>[1058997, 1065538, 854405, 1077555, 859237, 10...</td>\n",
       "      <td>[[898068, 833025, 1022097, 840361, 9527290, 10...</td>\n",
       "      <td>[[55, 15, 84, 34, 24, 21, 20, 19, 18, 79, 16, ...</td>\n",
       "      <td>[859237, 1065538, 931672, 1077555, 854405, 101...</td>\n",
       "    </tr>\n",
       "  </tbody>\n",
       "</table>\n",
       "<p>1934 rows × 5 columns</p>\n",
       "</div>"
      ],
      "text/plain": [
       "      user_id                                             actual  \\\n",
       "0           1  [940947, 856942, 10149640, 865456, 5577022, 10...   \n",
       "1           2  [1133018, 1106523, 916122, 1053690, 901062, 10...   \n",
       "2           4          [883932, 891423, 962229, 908283, 6773204]   \n",
       "3           6  [878996, 962568, 1024306, 1098844, 845208, 895...   \n",
       "4           7  [1106523, 1122358, 1133018, 1022003, 5591154, ...   \n",
       "...       ...                                                ...   \n",
       "1929     2496  [979707, 12810393, 883404, 916122, 1106523, 99...   \n",
       "1930     2497  [1055646, 862349, 834484, 845208, 860776, 1038...   \n",
       "1931     2498  [1053690, 1070820, 1106523, 1100379, 961554, 9...   \n",
       "1932     2499  [883404, 826249, 5568378, 899624, 904129, 1070...   \n",
       "1933     2500  [1058997, 1065538, 854405, 1077555, 859237, 10...   \n",
       "\n",
       "                                                  items  \\\n",
       "0     [[1033142, 865178, 9527290, 940947, 940947, 94...   \n",
       "1     [[5569230, 1133018, 1106523, 8090521, 916122, ...   \n",
       "2     [[840361, 883932, 883932, 883932, 883932, 5569...   \n",
       "3     [[904360, 961554, 878996, 1041796, 934639, 866...   \n",
       "4     [[987724, 1106523, 826249, 1122358, 849843, 11...   \n",
       "...                                                 ...   \n",
       "1929  [[1040371, 859075, 1044078, 840361, 1133018, 8...   \n",
       "1930  [[826249, 957951, 972665, 1042907, 951590, 999...   \n",
       "1931  [[1053690, 1070820, 1070820, 1070820, 1070820,...   \n",
       "1932  [[1004906, 952163, 965766, 1110572, 883404, 82...   \n",
       "1933  [[898068, 833025, 1022097, 840361, 9527290, 10...   \n",
       "\n",
       "                                                  proba  \\\n",
       "0     [[128, 47, 32, 95, 33, 36, 37, 38, 39, 42, 45,...   \n",
       "1     [[8, 1, 2, 4, 93, 98, 58, 63, 43, 23, 67, 26, ...   \n",
       "2     [[13, 7, 41, 44, 32, 43, 42, 4, 3, 2, 1, 74, 6...   \n",
       "3     [[80, 77, 102, 103, 104, 105, 106, 107, 108, 1...   \n",
       "4     [[43, 5, 50, 51, 32, 14, 91, 13, 63, 94, 3, 1,...   \n",
       "...                                                 ...   \n",
       "1929  [[117, 70, 20, 21, 22, 23, 88, 24, 45, 25, 44,...   \n",
       "1930  [[116, 28, 90, 30, 87, 31, 33, 82, 34, 35, 36,...   \n",
       "1931  [[0, 9, 34, 38, 66, 12, 10, 11, 4, 3, 2, 1, 80...   \n",
       "1932  [[21, 18, 89, 90, 91, 20, 17, 16, 15, 83, 82, ...   \n",
       "1933  [[55, 15, 84, 34, 24, 21, 20, 19, 18, 79, 16, ...   \n",
       "\n",
       "                                                   pred  \n",
       "0     [871570, 9655212, 5577022, 1082212, 1004906, 1...  \n",
       "1     [1053690, 1133018, 1106523, 916122, 1035843, 9...  \n",
       "2     [962229, 891423, 6773204, 908283, 883932, 9085...  \n",
       "3     [900802, 1119051, 994928, 1037863, 1024306, 96...  \n",
       "4     [836281, 1133018, 993638, 1110572, 1126899, 55...  \n",
       "...                                                 ...  \n",
       "1929  [957741, 1041796, 1106523, 820122, 995785, 105...  \n",
       "1930  [970202, 860776, 900802, 870515, 965719, 10382...  \n",
       "1931  [1053690, 1106523, 1100379, 961554, 951197, 10...  \n",
       "1932  [904129, 5568378, 1060872, 899624, 5569327, 84...  \n",
       "1933  [859237, 1065538, 931672, 1077555, 854405, 101...  \n",
       "\n",
       "[1934 rows x 5 columns]"
      ]
     },
     "execution_count": 18,
     "metadata": {},
     "output_type": "execute_result"
    }
   ],
   "source": [
    "X_train['proba'] = pred_proba[:, 1]\n",
    "\n",
    "res = pd.DataFrame(targets_lvl_2[targets_lvl_2['target'] == 1]\\\n",
    "                   .groupby('user_id')['item_id'].unique())\\\n",
    "                    .rename(columns={'item_id': 'actual'})\n",
    "\n",
    "res['items'] = X_train.groupby('user_id')['item_id'].agg(lambda x: [x.values])\n",
    "res['proba'] = X_train.groupby('user_id')['proba'].agg(lambda x: [x.values.argsort()[::-1]])\n",
    "res['pred'] = res.apply(lambda row: \n",
    "                              pd.Series(row['items'][0][row['proba'][0]].flatten()).unique(), axis=1)\n",
    "res = res.reset_index()\n",
    "res"
   ]
  },
  {
   "cell_type": "code",
   "execution_count": 19,
   "id": "a9309dd3",
   "metadata": {
    "ExecuteTime": {
     "end_time": "2023-03-03T18:46:44.157966Z",
     "start_time": "2023-03-03T18:46:43.964139Z"
    }
   },
   "outputs": [
    {
     "data": {
      "text/plain": [
       "0.8653567735263707"
      ]
     },
     "execution_count": 19,
     "metadata": {},
     "output_type": "execute_result"
    }
   ],
   "source": [
    "res.apply(lambda row: precision_at_k(row['pred'], row['actual'], k=5), axis=1).mean()"
   ]
  },
  {
   "cell_type": "code",
   "execution_count": 20,
   "id": "8663b4ab",
   "metadata": {
    "ExecuteTime": {
     "end_time": "2023-03-03T18:46:45.460565Z",
     "start_time": "2023-03-03T18:46:45.264802Z"
    }
   },
   "outputs": [
    {
     "data": {
      "text/plain": [
       "0.5941285831037535"
      ]
     },
     "execution_count": 20,
     "metadata": {},
     "output_type": "execute_result"
    }
   ],
   "source": [
    "res.apply(lambda row: recall_at_k(row['pred'], row['actual'], k=5), axis=1).mean()"
   ]
  },
  {
   "cell_type": "code",
   "execution_count": 21,
   "id": "ff04d433",
   "metadata": {
    "ExecuteTime": {
     "end_time": "2023-03-03T18:46:47.184476Z",
     "start_time": "2023-03-03T18:46:46.856353Z"
    }
   },
   "outputs": [
    {
     "data": {
      "text/html": [
       "<div>\n",
       "<style scoped>\n",
       "    .dataframe tbody tr th:only-of-type {\n",
       "        vertical-align: middle;\n",
       "    }\n",
       "\n",
       "    .dataframe tbody tr th {\n",
       "        vertical-align: top;\n",
       "    }\n",
       "\n",
       "    .dataframe thead th {\n",
       "        text-align: right;\n",
       "    }\n",
       "</style>\n",
       "<table border=\"1\" class=\"dataframe\">\n",
       "  <thead>\n",
       "    <tr style=\"text-align: right;\">\n",
       "      <th></th>\n",
       "      <th>user_id</th>\n",
       "      <th>pred</th>\n",
       "      <th>actual</th>\n",
       "    </tr>\n",
       "  </thead>\n",
       "  <tbody>\n",
       "    <tr>\n",
       "      <th>0</th>\n",
       "      <td>1</td>\n",
       "      <td>[871570, 9655212, 5577022, 1082212, 1004906, 1...</td>\n",
       "      <td>[821867, 834484, 856942, 865456, 889248, 90795...</td>\n",
       "    </tr>\n",
       "    <tr>\n",
       "      <th>1</th>\n",
       "      <td>6</td>\n",
       "      <td>[900802, 1119051, 994928, 1037863, 1024306, 96...</td>\n",
       "      <td>[920308, 926804, 946489, 1006718, 1017061, 107...</td>\n",
       "    </tr>\n",
       "    <tr>\n",
       "      <th>2</th>\n",
       "      <td>7</td>\n",
       "      <td>[836281, 1133018, 993638, 1110572, 1126899, 55...</td>\n",
       "      <td>[840386, 889774, 898068, 909714, 929067, 95347...</td>\n",
       "    </tr>\n",
       "  </tbody>\n",
       "</table>\n",
       "</div>"
      ],
      "text/plain": [
       "   user_id                                               pred  \\\n",
       "0        1  [871570, 9655212, 5577022, 1082212, 1004906, 1...   \n",
       "1        6  [900802, 1119051, 994928, 1037863, 1024306, 96...   \n",
       "2        7  [836281, 1133018, 993638, 1110572, 1126899, 55...   \n",
       "\n",
       "                                              actual  \n",
       "0  [821867, 834484, 856942, 865456, 889248, 90795...  \n",
       "1  [920308, 926804, 946489, 1006718, 1017061, 107...  \n",
       "2  [840386, 889774, 898068, 909714, 929067, 95347...  "
      ]
     },
     "execution_count": 21,
     "metadata": {},
     "output_type": "execute_result"
    }
   ],
   "source": [
    "res_test = res[['user_id', 'pred']]\n",
    "\n",
    "result_lvl_2 = data_val_lvl_2.groupby('user_id')['item_id'].unique().reset_index()\n",
    "result_lvl_2.columns=['user_id', 'actual']\n",
    "\n",
    "res_test = res_test.merge(result_lvl_2, on='user_id', how='inner')\n",
    "res_test.head(3)"
   ]
  },
  {
   "cell_type": "code",
   "execution_count": 22,
   "id": "a9f82efe",
   "metadata": {
    "ExecuteTime": {
     "end_time": "2023-03-03T18:46:48.959996Z",
     "start_time": "2023-03-03T18:46:48.759995Z"
    }
   },
   "outputs": [
    {
     "data": {
      "text/plain": [
       "0.3002280501710355"
      ]
     },
     "execution_count": 22,
     "metadata": {},
     "output_type": "execute_result"
    }
   ],
   "source": [
    "res_test.apply(lambda row: precision_at_k(row['pred'], row['actual'], k=5), axis=1).mean()"
   ]
  },
  {
   "cell_type": "code",
   "execution_count": 23,
   "id": "aaae1e7f",
   "metadata": {
    "ExecuteTime": {
     "end_time": "2023-03-03T18:46:50.380861Z",
     "start_time": "2023-03-03T18:46:50.157564Z"
    }
   },
   "outputs": [
    {
     "data": {
      "text/plain": [
       "0.03607363342085396"
      ]
     },
     "execution_count": 23,
     "metadata": {},
     "output_type": "execute_result"
    }
   ],
   "source": [
    "res_test.apply(lambda row: recall_at_k(row['pred'], row['actual'], k=5), axis=1).mean()"
   ]
  }
 ],
 "metadata": {
  "finalized": {
   "timestamp": 1677860857848,
   "trusted": false
  },
  "kernelspec": {
   "display_name": "Python 3 (ipykernel)",
   "language": "python",
   "name": "python3"
  },
  "language_info": {
   "codemirror_mode": {
    "name": "ipython",
    "version": 3
   },
   "file_extension": ".py",
   "mimetype": "text/x-python",
   "name": "python",
   "nbconvert_exporter": "python",
   "pygments_lexer": "ipython3",
   "version": "3.9.13"
  },
  "toc": {
   "base_numbering": 1,
   "nav_menu": {},
   "number_sections": true,
   "sideBar": true,
   "skip_h1_title": false,
   "title_cell": "Table of Contents",
   "title_sidebar": "Contents",
   "toc_cell": false,
   "toc_position": {},
   "toc_section_display": true,
   "toc_window_display": false
  },
  "varInspector": {
   "cols": {
    "lenName": 16,
    "lenType": 16,
    "lenVar": 40
   },
   "kernels_config": {
    "python": {
     "delete_cmd_postfix": "",
     "delete_cmd_prefix": "del ",
     "library": "var_list.py",
     "varRefreshCmd": "print(var_dic_list())"
    },
    "r": {
     "delete_cmd_postfix": ") ",
     "delete_cmd_prefix": "rm(",
     "library": "var_list.r",
     "varRefreshCmd": "cat(var_dic_list()) "
    }
   },
   "types_to_exclude": [
    "module",
    "function",
    "builtin_function_or_method",
    "instance",
    "_Feature"
   ],
   "window_display": false
  }
 },
 "nbformat": 4,
 "nbformat_minor": 5
}
